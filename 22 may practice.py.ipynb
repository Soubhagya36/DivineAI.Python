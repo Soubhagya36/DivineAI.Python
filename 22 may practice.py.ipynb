{
 "cells": [
  {
   "cell_type": "code",
   "execution_count": null,
   "id": "da3f275a",
   "metadata": {},
   "outputs": [],
   "source": []
  },
  {
   "cell_type": "code",
   "execution_count": 20,
   "id": "582d7146",
   "metadata": {},
   "outputs": [
    {
     "name": "stdout",
     "output_type": "stream",
     "text": [
      "enter a number\n",
      "45\n",
      "enter second number\n",
      "56\n",
      "sum of two number\n",
      " 101\n"
     ]
    }
   ],
   "source": [
    "num1 = int(input(\"enter a number\\n\"))\n",
    "num2 = int(input(\"enter second number\\n\"))\n",
    "\n",
    "sum = num1 + num2\n",
    "\n",
    "print(\"sum of two number\\n\",sum)"
   ]
  },
  {
   "cell_type": "code",
   "execution_count": 28,
   "id": "1a6b730b",
   "metadata": {},
   "outputs": [
    {
     "name": "stdout",
     "output_type": "stream",
     "text": [
      "enter a nymber894\n",
      "enter 2nd number894\n",
      "both are equal\n"
     ]
    }
   ],
   "source": [
    "a =int(input(\"enter a nymber\"))\n",
    "b =int(input(\"enter 2nd number\"))\n",
    "\n",
    "if(a>b):\n",
    "    print(a,\"is greater\")\n",
    "elif(a<b):\n",
    "    print(b,\"is greater\")\n",
    "else:\n",
    "    print(\"both are equal\")"
   ]
  },
  {
   "cell_type": "code",
   "execution_count": 1,
   "id": "9aa6afed",
   "metadata": {},
   "outputs": [
    {
     "name": "stdout",
     "output_type": "stream",
     "text": [
      "enter a number56\n",
      "enter 2nd number54\n",
      "the maximum number is 56\n"
     ]
    }
   ],
   "source": [
    "a=int(input(\"enter a number\"))\n",
    "b=int(input(\"enter 2nd number\"))\n",
    "\n",
    "c = max(a,b)\n",
    "print(\"the maximum number is\", c )"
   ]
  },
  {
   "cell_type": "code",
   "execution_count": 67,
   "id": "efa46708",
   "metadata": {},
   "outputs": [
    {
     "name": "stdout",
     "output_type": "stream",
     "text": [
      "the principle is 8\n",
      "the time period is 9\n",
      "the rate of interest is 8\n",
      "the simple interest is 5.76\n",
      "chiku\n"
     ]
    }
   ],
   "source": [
    "def simple_interest(p,t,r):\n",
    "    print(\"the principle is\",p)\n",
    "    print(\"the time period is\",t)\n",
    "    print(\"the rate of interest is\",r)\n",
    "    \n",
    "    si = p *t * r/100\n",
    "    \n",
    "    print(\"the simple interest is\",si)\n",
    "\n",
    "simple_interest(8,9,8)\n",
    "print(\"chiku\")\n"
   ]
  },
  {
   "cell_type": "code",
   "execution_count": null,
   "id": "f899ce54",
   "metadata": {},
   "outputs": [],
   "source": []
  },
  {
   "cell_type": "code",
   "execution_count": null,
   "id": "08201f7b",
   "metadata": {},
   "outputs": [],
   "source": []
  }
 ],
 "metadata": {
  "kernelspec": {
   "display_name": "Python 3 (ipykernel)",
   "language": "python",
   "name": "python3"
  },
  "language_info": {
   "codemirror_mode": {
    "name": "ipython",
    "version": 3
   },
   "file_extension": ".py",
   "mimetype": "text/x-python",
   "name": "python",
   "nbconvert_exporter": "python",
   "pygments_lexer": "ipython3",
   "version": "3.9.7"
  }
 },
 "nbformat": 4,
 "nbformat_minor": 5
}
