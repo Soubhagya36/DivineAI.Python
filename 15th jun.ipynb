{
 "cells": [
  {
   "cell_type": "code",
   "execution_count": null,
   "id": "944f7134",
   "metadata": {},
   "outputs": [],
   "source": [
    "print(\"hello World\")"
   ]
  },
  {
   "cell_type": "code",
   "execution_count": null,
   "id": "eb0de567",
   "metadata": {},
   "outputs": [],
   "source": [
    "#addition, substration, multiplication,division of two number\n",
    "\n",
    "\n",
    "num1=input(\"enter a number:\")\n",
    "num2=input(\"enter 2nd number:\")\n",
    "sum=int(num1)+int(num2)\n",
    "min=int(num1)-int(num2)\n",
    "mul=int(num1)*int(num2)\n",
    "div=float(num1)/float(num2)\n",
    "print(\"sum of two number\",sum)\n",
    "print(\"min of two number\",min)\n",
    "print(\"mul of two number\",mul)\n",
    "print(\"div of two number\",div)\n"
   ]
  },
  {
   "cell_type": "code",
   "execution_count": null,
   "id": "239e6f2d",
   "metadata": {},
   "outputs": [],
   "source": [
    "#area of the trangle\n",
    "\n",
    "a=float(input(\"enter first side\"))\n",
    "b=float(input(\"enter 2nd side\"))\n",
    "c=float(input(\"enter 2rd side\"))\n",
    "\n",
    "s=(a+b+c)/2 #calculate the semi parameter\n",
    "\n",
    "#calculate the area\n",
    "\n",
    "area=(s*(s-a)*(s-b)*(s-c))**0.5\n",
    "print(\"area of the trangle is\",area)\n"
   ]
  },
  {
   "cell_type": "code",
   "execution_count": null,
   "id": "45905200",
   "metadata": {},
   "outputs": [],
   "source": [
    "#quadratic Equation\n",
    "\n",
    "\n",
    "a=float(input(\"enter a:\"))\n",
    "b=float(input(\"enter b:\"))\n",
    "c=float(input(\"enter c:\"))\n",
    "\n",
    "#calculate the discrimimnant\n",
    "\n",
    "d=(b*b)-(4*a*c)\n",
    "#find two solution\n",
    "sol1=(-b-(d))/2*a\n",
    "print(\"the solution is\",sol1)"
   ]
  },
  {
   "cell_type": "code",
   "execution_count": null,
   "id": "2f0f6955",
   "metadata": {},
   "outputs": [],
   "source": [
    "#swap two variable\n",
    "\n",
    "p=int(input(\"enter the value of p:\"))\n",
    "q=int(input(\"enter the value of q\"))\n",
    "#swap two variables\n",
    "#use a third variable\n",
    "#p,q=q,p(another method)\n",
    "temp_1=p\n",
    "p=q\n",
    "q=temp_1\n",
    "#print the swaping number\n",
    "print(\"after swapping two variable p:\",p)\n",
    "print(\"after swapping two variable q:\",q)"
   ]
  },
  {
   "cell_type": "code",
   "execution_count": null,
   "id": "83e5de2d",
   "metadata": {},
   "outputs": [],
   "source": [
    "#generate a random number\n",
    "import random  #external\n",
    "n=random.random()\n",
    "print(n)"
   ]
  },
  {
   "cell_type": "code",
   "execution_count": null,
   "id": "cacc44ca",
   "metadata": {},
   "outputs": [],
   "source": [
    "#random number from 0 to 59\n",
    "\n",
    "import random\n",
    "n=random.randint(0,59)\n",
    "print(n)"
   ]
  },
  {
   "cell_type": "code",
   "execution_count": null,
   "id": "ef356519",
   "metadata": {},
   "outputs": [],
   "source": [
    "#using loops add items in list between 1 to 50\n",
    "import random\n",
    "chiku_list=[]\n",
    "for i in range(0,10):\n",
    "    n=random.randint(1,5)\n",
    "    chiku_list.append(n)\n",
    "print(chiku_list)\n",
    "\n"
   ]
  },
  {
   "cell_type": "code",
   "execution_count": 93,
   "id": "75b9d834",
   "metadata": {},
   "outputs": [
    {
     "name": "stdout",
     "output_type": "stream",
     "text": [
      "Enter your Age Year :2022\n",
      "Enter your Birthday Month :02\n",
      "   February 2022\n",
      "Mo Tu We Th Fr Sa Su\n",
      "    1  2  3  4  5  6\n",
      " 7  8  9 10 11 12 13\n",
      "14 15 16 17 18 19 20\n",
      "21 22 23 24 25 26 27\n",
      "28\n",
      "\n"
     ]
    }
   ],
   "source": [
    "#calendar program\n",
    "\n",
    "import calendar\n",
    "\n",
    "year=int(input(\"Enter your Age Year :\"))\n",
    "month=int(input(\"Enter your Birthday Month :\"))\n",
    "\n",
    "#syntax for calendar\n",
    "\n",
    "print(calendar.month(year,month))\n"
   ]
  },
  {
   "cell_type": "code",
   "execution_count": null,
   "id": "d6a669cd",
   "metadata": {},
   "outputs": [],
   "source": [
    "#check number is -ve,+ve or 0\n",
    "\n",
    "\n",
    "\n",
    "a=float(input(\"enter a number :\"))\n",
    "if a < 0:\n",
    "    print(\"number is -ve\")\n",
    "elif a > 0:\n",
    "    print(\"number is +ve\")\n",
    "else:\n",
    "    print(\"number is = 0\")\n",
    "\n"
   ]
  },
  {
   "cell_type": "code",
   "execution_count": null,
   "id": "6d6b819d",
   "metadata": {},
   "outputs": [],
   "source": [
    "#even or odd\n",
    "\n",
    "num=int(input(\"enter a number\"))\n",
    "if(num%2)==0:\n",
    "    print(\"number is even\")\n",
    "else:\n",
    "    print(\"number is odd\")\n"
   ]
  },
  {
   "cell_type": "code",
   "execution_count": null,
   "id": "a690088e",
   "metadata": {},
   "outputs": [],
   "source": [
    "\n"
   ]
  },
  {
   "cell_type": "code",
   "execution_count": null,
   "id": "6873b9ce",
   "metadata": {},
   "outputs": [],
   "source": []
  },
  {
   "cell_type": "code",
   "execution_count": null,
   "id": "d08b00b5",
   "metadata": {},
   "outputs": [],
   "source": [
    "2"
   ]
  }
 ],
 "metadata": {
  "kernelspec": {
   "display_name": "Python 3 (ipykernel)",
   "language": "python",
   "name": "python3"
  },
  "language_info": {
   "codemirror_mode": {
    "name": "ipython",
    "version": 3
   },
   "file_extension": ".py",
   "mimetype": "text/x-python",
   "name": "python",
   "nbconvert_exporter": "python",
   "pygments_lexer": "ipython3",
   "version": "3.9.7"
  }
 },
 "nbformat": 4,
 "nbformat_minor": 5
}
