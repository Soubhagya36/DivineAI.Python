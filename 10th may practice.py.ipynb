{
 "cells": [
  {
   "cell_type": "code",
   "execution_count": 1,
   "id": "f9ccb76d",
   "metadata": {},
   "outputs": [
    {
     "data": {
      "text/plain": [
       "42"
      ]
     },
     "execution_count": 1,
     "metadata": {},
     "output_type": "execute_result"
    }
   ],
   "source": [
    "7*6\n"
   ]
  },
  {
   "cell_type": "code",
   "execution_count": 6,
   "id": "b357f521",
   "metadata": {},
   "outputs": [
    {
     "name": "stdout",
     "output_type": "stream",
     "text": [
      "enter a student namechiku\n",
      "print the student name chiku\n"
     ]
    }
   ],
   "source": [
    "a=input(\"enter a student name\")\n",
    "print(\"print the student name\",a)\n",
    "\n"
   ]
  },
  {
   "cell_type": "code",
   "execution_count": 6,
   "id": "dad095a5",
   "metadata": {},
   "outputs": [
    {
     "name": "stdout",
     "output_type": "stream",
     "text": [
      "enter your name\n",
      "chiku\n",
      "good evening ,chiku\n"
     ]
    }
   ],
   "source": [
    "name=input(\"enter your name\\n\")\n",
    "print(\"good evening ,\" + name)"
   ]
  },
  {
   "cell_type": "code",
   "execution_count": 13,
   "id": "721efd46",
   "metadata": {},
   "outputs": [
    {
     "name": "stdout",
     "output_type": "stream",
     "text": [
      "Enter Namechiku\n",
      "Enter Date09 apr\n",
      "Dear chiku,\n",
      "\n",
      "you are selected!\n",
      "\n",
      "date:09 apr\n",
      "\n"
     ]
    }
   ],
   "source": [
    "letter='''Dear <|NAME|>,\n",
    "\n",
    "you are selected!\n",
    "\n",
    "date:<|DATE|>\n",
    "'''\n",
    "name =input(\"Enter Name\")\n",
    "date =input(\"Enter Date\")\n",
    "letter = letter.replace(\"<|NAME|>\" ,name)\n",
    "letter = letter.replace(\"<|DATE|>\" ,date)\n",
    "print(letter)"
   ]
  },
  {
   "cell_type": "code",
   "execution_count": 25,
   "id": "5bf8bc56",
   "metadata": {},
   "outputs": [
    {
     "name": "stdout",
     "output_type": "stream",
     "text": [
      "28\n"
     ]
    }
   ],
   "source": [
    "st = (\"this is a string with double  spaces\")\n",
    "\n",
    "doubleSpaces = st.find(\"  \")\n",
    "print(doubleSpaces)"
   ]
  },
  {
   "cell_type": "code",
   "execution_count": 30,
   "id": "a6b3e70d",
   "metadata": {},
   "outputs": [
    {
     "name": "stdout",
     "output_type": "stream",
     "text": [
      "dear chiku, we are glad that you studed well in python!\n",
      "dear\n",
      "\t chiku,we are glad\n",
      "\t \n",
      "that you studed well in python!\n"
     ]
    }
   ],
   "source": [
    "letter = \"dear chiku, we are glad that you studed well in python!\"\n",
    "print (letter)\n",
    "\n",
    "modify_letter = \"dear\\n\\t chiku,we are glad\\n\\t \\nthat you studed well in python!\"\n",
    "print (modify_letter)"
   ]
  },
  {
   "cell_type": "code",
   "execution_count": 37,
   "id": "f1a8de31",
   "metadata": {},
   "outputs": [
    {
     "name": "stdout",
     "output_type": "stream",
     "text": [
      "['apple', 'mango', 123, 1, 2, 345, 0.97]\n",
      "123\n",
      "['mango', 123, 1, 2, 345, 0.97]\n",
      "[1, 2, 345, 0.97]\n"
     ]
    }
   ],
   "source": [
    "fruit=[\"apple\",\"mango\",123,1,2,345,0.97]\n",
    "print(fruit)\n",
    "print(fruit[2])\n",
    "print(fruit[1:])\n",
    "print(fruit[-4:])"
   ]
  },
  {
   "cell_type": "code",
   "execution_count": 50,
   "id": "588667e9",
   "metadata": {},
   "outputs": [
    {
     "name": "stdout",
     "output_type": "stream",
     "text": [
      "[23, 45, 1, 4, 7, 23, 89]\n",
      "[1, 4, 7, 23, 23, 45, 89]\n",
      "[89, 45, 23, 23, 7, 4, 1]\n",
      "[23, 89, 23, 23, 7, 4, 1, 88, 787, 92627]\n",
      "[23, 89, 23, 23, 4, 1, 88, 787, 92627]\n"
     ]
    }
   ],
   "source": [
    "l1=[23,45,1,4,7,23,89]\n",
    "print(l1)\n",
    "l1.sort()\n",
    "print(l1)\n",
    "l1.reverse()\n",
    "print(l1)\n",
    "l1.append(88)\n",
    "l1.append(787)\n",
    "l1.append(92627)\n",
    "l1.insert(0,23)\n",
    "l1.pop(2)\n",
    "print(l1)\n",
    "l1.pop(4)\n",
    "print(l1)"
   ]
  },
  {
   "cell_type": "code",
   "execution_count": 62,
   "id": "ad97154b",
   "metadata": {},
   "outputs": [
    {
     "name": "stdout",
     "output_type": "stream",
     "text": [
      "(1,)\n",
      "2\n",
      "6\n"
     ]
    }
   ],
   "source": [
    "t1=(1,)\n",
    "print(t1)\n",
    "t=(2,4,5,7,8,9,23,456,765,4,254)\n",
    "print(t.count(4))\n",
    "print(t.index(23))"
   ]
  },
  {
   "cell_type": "code",
   "execution_count": 63,
   "id": "dac76d54",
   "metadata": {},
   "outputs": [
    {
     "name": "stdout",
     "output_type": "stream",
     "text": [
      "enter fruit number 1mango\n",
      "enter fruit number 2apple\n",
      "enter fruit number 3grapes\n",
      "enter fruit number 4strabery\n",
      "enter fruit number 5casted apple\n",
      "enter fruit number 6orange\n",
      "enter fruit number 7apple\n",
      "['mango', 'apple', 'grapes', 'strabery', 'casted apple', 'orange', 'apple']\n"
     ]
    }
   ],
   "source": [
    "f1=input(\"enter fruit number 1\")\n",
    "f2=input(\"enter fruit number 2\")\n",
    "f3=input(\"enter fruit number 3\")\n",
    "f4=input(\"enter fruit number 4\")\n",
    "f5=input(\"enter fruit number 5\")\n",
    "f6=input(\"enter fruit number 6\")\n",
    "f7=input(\"enter fruit number 7\")\n",
    "MyFruitList=[f1,f2,f3,f4,f5,f6,f7]\n",
    "print(MyFruitList)"
   ]
  },
  {
   "cell_type": "code",
   "execution_count": null,
   "id": "1448b60f",
   "metadata": {},
   "outputs": [],
   "source": []
  }
 ],
 "metadata": {
  "kernelspec": {
   "display_name": "Python 3 (ipykernel)",
   "language": "python",
   "name": "python3"
  },
  "language_info": {
   "codemirror_mode": {
    "name": "ipython",
    "version": 3
   },
   "file_extension": ".py",
   "mimetype": "text/x-python",
   "name": "python",
   "nbconvert_exporter": "python",
   "pygments_lexer": "ipython3",
   "version": "3.9.7"
  }
 },
 "nbformat": 4,
 "nbformat_minor": 5
}
